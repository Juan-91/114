{
 "cells": [
  {
   "cell_type": "code",
   "execution_count": 6,
   "id": "fd54990f-d4f1-4ece-af11-462ed1322f3a",
   "metadata": {},
   "outputs": [],
   "source": [
    "\n",
    "\n",
    "class DoublyLinkedList:\n",
    "    class __Node:\n",
    "        def __init__(self, datum):\n",
    "                self.data = datum\n",
    "                self.next = None\n",
    "                self.prev = None\n",
    "            \n",
    "    def __init__(self):\n",
    "            self.head = None\n",
    "            self.tail = None\n",
    "            self.size = 0\n",
    "\n",
    "    def append(self, datum):\n",
    "    \n",
    "        pass\n",
    "\n",
    "    def remove(self, datum):\n",
    "    \n",
    "        pass\n",
    "\n",
    "    def __len__(self):\n",
    "        \n",
    "        return self.size\n",
    "\n",
    "    def __str__(self):\n",
    "        \n",
    "        out = \"[\"\n",
    "        if self.head:\n",
    "            current = self.head\n",
    "            out += \"%s\" % repr(current.data)\n",
    "            current = current.next\n",
    "            while current:\n",
    "                out += \", %s\" % repr(current.data)\n",
    "                current = current.next\n",
    "        out += \"]\"\n",
    "        return out\n",
    "\n",
    "    def insert(self, index, datum):\n",
    "\n",
    "        new_node = self.__Node(datum)\n",
    "        self.size += 1\n",
    "        found = False\n",
    "        count = 0\n",
    "        if self.head:\n",
    "            current = self.head\n",
    "            if index == 0:\n",
    "\n",
    "                new_node.next = self.head\n",
    "                self.head.prev = new_node\n",
    "                self.head = new_node\n",
    "            else:\n",
    "                while current.next:\n",
    "                    if count == index:\n",
    "                        found = True\n",
    "                        break\n",
    "                    current = current.next\n",
    "                    count += 1\n",
    "                if found:\n",
    "                    current.prev.next = new_node\n",
    "                    new_node.prev = current.prev\n",
    "                    new_node.next = current\n",
    "                    current.prev = new_node\n",
    "                else:\n",
    "                    self.append(datum)\n",
    "        else:\n",
    "            self.head = new_node\n",
    "            self.tail = new_node\n",
    "\n",
    "\n",
    "        "
   ]
  },
  {
   "cell_type": "code",
   "execution_count": 7,
   "id": "946152a3-8ad4-44ab-aa8f-9027e42a0b1e",
   "metadata": {},
   "outputs": [
    {
     "name": "stdout",
     "output_type": "stream",
     "text": [
      "[1]\n"
     ]
    }
   ],
   "source": [
    "\n",
    "dll = DoublyLinkedList()\n",
    "\n",
    "\n",
    "dll.insert(0, 1)\n",
    "\n",
    "\n",
    "dll.insert(2, 2)\n",
    "\n",
    "\n",
    "dll.insert(2, 1.5)\n",
    "\n",
    "\n",
    "print(dll)"
   ]
  },
  {
   "cell_type": "code",
   "execution_count": 8,
   "id": "1329a212-281b-4da5-b1fe-3b7bcf08126f",
   "metadata": {},
   "outputs": [],
   "source": [
    "def factorial(n):\n",
    "    if n == 0:\n",
    "        return 1\n",
    "    return n*factorial(n-1)"
   ]
  },
  {
   "cell_type": "code",
   "execution_count": 9,
   "id": "d61c34ad-2bae-4809-9e7c-c031d2777ccc",
   "metadata": {},
   "outputs": [
    {
     "data": {
      "text/plain": [
       "3628800"
      ]
     },
     "execution_count": 9,
     "metadata": {},
     "output_type": "execute_result"
    }
   ],
   "source": [
    "factorial(10)"
   ]
  },
  {
   "cell_type": "code",
   "execution_count": null,
   "id": "072b0650-f3a0-4cbe-8a4f-13bfe505c498",
   "metadata": {},
   "outputs": [],
   "source": [
    "from functools import lru_cache\n",
    "\n",
    "@lru_cache\n",
    "def fib(n):\n",
    "    if n < 2:\n",
    "        return n\n",
    "    return fib(n-1) + fib(n-2)"
   ]
  },
  {
   "cell_type": "code",
   "execution_count": 14,
   "id": "364af2e9-3a3d-4c8b-b170-8e011de732fa",
   "metadata": {},
   "outputs": [
    {
     "data": {
      "text/plain": [
       "55"
      ]
     },
     "execution_count": 14,
     "metadata": {},
     "output_type": "execute_result"
    }
   ],
   "source": [
    "fib(10)"
   ]
  },
  {
   "cell_type": "code",
   "execution_count": null,
   "id": "db33421a-c76a-499f-a059-ac1548783990",
   "metadata": {},
   "outputs": [],
   "source": []
  }
 ],
 "metadata": {
  "kernelspec": {
   "display_name": "Python 3 (ipykernel)",
   "language": "python",
   "name": "python3"
  },
  "language_info": {
   "codemirror_mode": {
    "name": "ipython",
    "version": 3
   },
   "file_extension": ".py",
   "mimetype": "text/x-python",
   "name": "python",
   "nbconvert_exporter": "python",
   "pygments_lexer": "ipython3",
   "version": "3.12.3"
  }
 },
 "nbformat": 4,
 "nbformat_minor": 5
}
